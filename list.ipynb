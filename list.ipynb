{
 "cells": [
  {
   "cell_type": "markdown",
   "id": "f5f22fbd-a799-4363-b29c-7e731bd2f400",
   "metadata": {},
   "source": [
    "将 `List` 转换为 `Dict`"
   ]
  },
  {
   "cell_type": "code",
   "execution_count": 6,
   "id": "a54f9512-8699-46eb-9fbb-6159500cb079",
   "metadata": {},
   "outputs": [
    {
     "data": {
      "text/plain": [
       "{'String': 0, 'Int': 1, 'Boolean': 2, 'Date': 3, 'DateTime': 4}"
      ]
     },
     "execution_count": 6,
     "metadata": {},
     "output_type": "execute_result"
    }
   ],
   "source": [
    "type_list = [\"String\", \"Int\", \"Boolean\", \"Date\", \"DateTime\"]\n",
    "\n",
    "dict(zip(type_list, [i for i, v in enumerate(type_list)]))"
   ]
  },
  {
   "cell_type": "markdown",
   "id": "8e2fb0ce-3c73-46c3-bddf-79aef8f088de",
   "metadata": {},
   "source": [
    "### Any()\n",
    "\n",
    "迭代器中任何元素为 `True` 时返回 `True`，否则返回 `False`"
   ]
  },
  {
   "cell_type": "code",
   "execution_count": 1,
   "id": "f5ff477f-9c31-44f5-aa0a-2d8d3ca9f0f0",
   "metadata": {},
   "outputs": [
    {
     "data": {
      "text/plain": [
       "True"
      ]
     },
     "execution_count": 1,
     "metadata": {},
     "output_type": "execute_result"
    }
   ],
   "source": [
    "boolean_list = [True, False]\n",
    "\n",
    "any(boolean_list)"
   ]
  },
  {
   "cell_type": "code",
   "execution_count": 2,
   "id": "f98e700f-a785-4a9e-9811-fd69b5ca3bc9",
   "metadata": {},
   "outputs": [
    {
     "data": {
      "text/plain": [
       "False"
      ]
     },
     "execution_count": 2,
     "metadata": {},
     "output_type": "execute_result"
    }
   ],
   "source": [
    "boolean_list = [False, False]\n",
    "\n",
    "any(boolean_list)"
   ]
  },
  {
   "cell_type": "code",
   "execution_count": 3,
   "id": "e5160d0f-e07f-4d56-9ebd-4102e9ee9d48",
   "metadata": {},
   "outputs": [
    {
     "data": {
      "text/plain": [
       "True"
      ]
     },
     "execution_count": 3,
     "metadata": {},
     "output_type": "execute_result"
    }
   ],
   "source": [
    "number_list = [1, 50, 100]\n",
    "\n",
    "any(number_list)"
   ]
  },
  {
   "cell_type": "code",
   "execution_count": 7,
   "id": "ef163d4a-4c32-4c05-b85c-df59c33a9179",
   "metadata": {},
   "outputs": [
    {
     "data": {
      "text/plain": [
       "False"
      ]
     },
     "execution_count": 7,
     "metadata": {},
     "output_type": "execute_result"
    }
   ],
   "source": [
    "empty_list = []\n",
    "\n",
    "any(empty_list)"
   ]
  },
  {
   "cell_type": "markdown",
   "id": "ada9b2df-fb01-4faa-a000-ef34f00b938e",
   "metadata": {},
   "source": [
    "检查 `List` 中是否存在 `String` 类型的元素"
   ]
  },
  {
   "cell_type": "code",
   "execution_count": 16,
   "id": "83b59de6-6c88-49c3-9cb8-9bba9fa8a6ef",
   "metadata": {},
   "outputs": [
    {
     "data": {
      "text/plain": [
       "True"
      ]
     },
     "execution_count": 16,
     "metadata": {},
     "output_type": "execute_result"
    }
   ],
   "source": [
    "elm_list = [100, \"Apple\", 5000]\n",
    "\n",
    "any([type(i) == str for i in elm_list])"
   ]
  },
  {
   "cell_type": "markdown",
   "id": "7ca8ed3c-6f4a-419a-af9c-10c8c3d7d0fb",
   "metadata": {},
   "source": [
    "检查 `List` 是否包含 `List` 的元素"
   ]
  },
  {
   "cell_type": "code",
   "execution_count": 2,
   "id": "20986443-ed0d-4964-aa1a-f470c3dbd373",
   "metadata": {},
   "outputs": [
    {
     "data": {
      "text/plain": [
       "True"
      ]
     },
     "execution_count": 2,
     "metadata": {},
     "output_type": "execute_result"
    }
   ],
   "source": [
    "a_list = [1, 100, 500]\n",
    "b_list = [500, 3000]\n",
    "\n",
    "any([i in a_list for i in b_list])"
   ]
  },
  {
   "cell_type": "markdown",
   "id": "3ba80f0b-c13d-4dcd-8c3e-6c607dc1d51f",
   "metadata": {},
   "source": [
    "### All()\n",
    "\n",
    "迭代器中所有元素为 `True` 时返回 `True`，否则返回 `False`"
   ]
  },
  {
   "cell_type": "code",
   "execution_count": 17,
   "id": "e218e321-c9cc-4fc5-b1e9-6275b00cc638",
   "metadata": {},
   "outputs": [
    {
     "data": {
      "text/plain": [
       "False"
      ]
     },
     "execution_count": 17,
     "metadata": {},
     "output_type": "execute_result"
    }
   ],
   "source": [
    "boolean_list = [True, False]\n",
    "\n",
    "all(boolean_list)"
   ]
  },
  {
   "cell_type": "code",
   "execution_count": 18,
   "id": "f041989d-30c0-4bf8-a8af-c5a4118ff64e",
   "metadata": {},
   "outputs": [
    {
     "data": {
      "text/plain": [
       "True"
      ]
     },
     "execution_count": 18,
     "metadata": {},
     "output_type": "execute_result"
    }
   ],
   "source": [
    "number_list = [1, 50, 100]\n",
    "\n",
    "all(number_list)"
   ]
  },
  {
   "cell_type": "code",
   "execution_count": 19,
   "id": "7cad65e0-63fd-4f1f-b8c5-813900dbdbdf",
   "metadata": {},
   "outputs": [
    {
     "data": {
      "text/plain": [
       "True"
      ]
     },
     "execution_count": 19,
     "metadata": {},
     "output_type": "execute_result"
    }
   ],
   "source": [
    "empty_list = []\n",
    "\n",
    "all(empty_list)"
   ]
  },
  {
   "cell_type": "markdown",
   "id": "9537a86b-8086-434a-a2d4-ca4ecdd437a4",
   "metadata": {},
   "source": [
    "检查 `List` 中是否全部为 `String` 类型的元素"
   ]
  },
  {
   "cell_type": "code",
   "execution_count": 20,
   "id": "b333aea9-01e9-49d8-918c-cda64c797cb5",
   "metadata": {},
   "outputs": [
    {
     "data": {
      "text/plain": [
       "False"
      ]
     },
     "execution_count": 20,
     "metadata": {},
     "output_type": "execute_result"
    }
   ],
   "source": [
    "elm_list = [100, \"Apple\", 5000]\n",
    "\n",
    "all([type(i) == str for i in elm_list])"
   ]
  },
  {
   "cell_type": "markdown",
   "id": "c6422841-7eab-434d-81fc-4340e15a745d",
   "metadata": {},
   "source": [
    "检查 `List` 是否全部包含 `List` 的元素"
   ]
  },
  {
   "cell_type": "code",
   "execution_count": 5,
   "id": "d2a31a89-ba46-45d2-8044-ce67e556a302",
   "metadata": {},
   "outputs": [
    {
     "data": {
      "text/plain": [
       "False"
      ]
     },
     "execution_count": 5,
     "metadata": {},
     "output_type": "execute_result"
    }
   ],
   "source": [
    "a_list = [1, 100, 500]\n",
    "b_list = [500, 3000]\n",
    "\n",
    "all([i in a_list for i in b_list])"
   ]
  },
  {
   "cell_type": "code",
   "execution_count": null,
   "id": "6629757a-f13c-4bdd-b49e-aaff344428d5",
   "metadata": {},
   "outputs": [],
   "source": []
  }
 ],
 "metadata": {
  "kernelspec": {
   "display_name": "Python 3 (ipykernel)",
   "language": "python",
   "name": "python3"
  },
  "language_info": {
   "codemirror_mode": {
    "name": "ipython",
    "version": 3
   },
   "file_extension": ".py",
   "mimetype": "text/x-python",
   "name": "python",
   "nbconvert_exporter": "python",
   "pygments_lexer": "ipython3",
   "version": "3.10.4"
  }
 },
 "nbformat": 4,
 "nbformat_minor": 5
}
