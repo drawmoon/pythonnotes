{
 "cells": [
  {
   "cell_type": "code",
   "execution_count": 1,
   "id": "0c3cbb24-e23d-4641-bd50-43ef5eb81e3c",
   "metadata": {},
   "outputs": [],
   "source": [
    "import re"
   ]
  },
  {
   "cell_type": "code",
   "execution_count": 23,
   "id": "4c9f6394-3bac-417c-89aa-81dcb33ab4d3",
   "metadata": {},
   "outputs": [],
   "source": [
    "expr = '[1-9]{1}[0-9]{3}'"
   ]
  },
  {
   "cell_type": "markdown",
   "id": "6b2e5986-b63f-437d-b589-f86c336afe8c",
   "metadata": {},
   "source": [
    "`match` 函数仅从字符串的开头搜索"
   ]
  },
  {
   "cell_type": "code",
   "execution_count": 24,
   "id": "9bbbf9cd-3d4a-473d-8039-8309dba75461",
   "metadata": {},
   "outputs": [
    {
     "data": {
      "text/plain": [
       "<re.Match object; span=(0, 4), match='2022'>"
      ]
     },
     "execution_count": 24,
     "metadata": {},
     "output_type": "execute_result"
    }
   ],
   "source": [
    "pt = re.match(expr, '2022')\n",
    "\n",
    "pt"
   ]
  },
  {
   "cell_type": "code",
   "execution_count": 29,
   "id": "b1b47a38-a107-47d2-978c-b7ed6aabec6e",
   "metadata": {},
   "outputs": [
    {
     "data": {
      "text/plain": [
       "True"
      ]
     },
     "execution_count": 29,
     "metadata": {},
     "output_type": "execute_result"
    }
   ],
   "source": [
    "re.match(expr, 'abc2022...') is None"
   ]
  },
  {
   "cell_type": "code",
   "execution_count": 25,
   "id": "f396fd08-4dca-457d-8286-c562162ac4b1",
   "metadata": {},
   "outputs": [
    {
     "data": {
      "text/plain": [
       "'2022'"
      ]
     },
     "execution_count": 25,
     "metadata": {},
     "output_type": "execute_result"
    }
   ],
   "source": [
    "pt.group()"
   ]
  },
  {
   "cell_type": "markdown",
   "id": "2c92eb05-700b-46e4-b3c1-c9bc56ead5d3",
   "metadata": {},
   "source": [
    "`search` 函数搜索整个字符串，即使字符串包含多行"
   ]
  },
  {
   "cell_type": "code",
   "execution_count": 26,
   "id": "9efb3833-1de6-41a4-8d01-f35101d9ffb0",
   "metadata": {},
   "outputs": [
    {
     "data": {
      "text/plain": [
       "<re.Match object; span=(3, 7), match='2022'>"
      ]
     },
     "execution_count": 26,
     "metadata": {},
     "output_type": "execute_result"
    }
   ],
   "source": [
    "re.search(expr, 'abc2022...')"
   ]
  },
  {
   "cell_type": "code",
   "execution_count": 30,
   "id": "04337e49-f69d-46d7-969c-14273fba348a",
   "metadata": {},
   "outputs": [
    {
     "data": {
      "text/plain": [
       "<re.Match object; span=(5, 9), match='2022'>"
      ]
     },
     "execution_count": 30,
     "metadata": {},
     "output_type": "execute_result"
    }
   ],
   "source": [
    "re.search(expr, '''\n",
    "abc\n",
    "2022\n",
    "hhh\n",
    "''')"
   ]
  },
  {
   "cell_type": "code",
   "execution_count": null,
   "id": "54f97e8c-79ab-4dca-8a4d-733a615cc048",
   "metadata": {},
   "outputs": [],
   "source": []
  }
 ],
 "metadata": {
  "kernelspec": {
   "display_name": "Python 3 (ipykernel)",
   "language": "python",
   "name": "python3"
  },
  "language_info": {
   "codemirror_mode": {
    "name": "ipython",
    "version": 3
   },
   "file_extension": ".py",
   "mimetype": "text/x-python",
   "name": "python",
   "nbconvert_exporter": "python",
   "pygments_lexer": "ipython3",
   "version": "3.10.4"
  }
 },
 "nbformat": 4,
 "nbformat_minor": 5
}
